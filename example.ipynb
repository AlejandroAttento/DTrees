{
 "cells": [
  {
   "cell_type": "markdown",
   "metadata": {},
   "source": [
    "# Initialization"
   ]
  },
  {
   "cell_type": "markdown",
   "metadata": {},
   "source": [
    "## Installs"
   ]
  },
  {
   "cell_type": "code",
   "execution_count": 17,
   "metadata": {},
   "outputs": [
    {
     "name": "stdout",
     "output_type": "stream",
     "text": [
      "\n",
      "\u001b[1m[\u001b[0m\u001b[34;49mnotice\u001b[0m\u001b[1;39;49m]\u001b[0m\u001b[39;49m A new release of pip is available: \u001b[0m\u001b[31;49m24.0\u001b[0m\u001b[39;49m -> \u001b[0m\u001b[32;49m25.1.1\u001b[0m\n",
      "\u001b[1m[\u001b[0m\u001b[34;49mnotice\u001b[0m\u001b[1;39;49m]\u001b[0m\u001b[39;49m To update, run: \u001b[0m\u001b[32;49mpip install --upgrade pip\u001b[0m\n"
     ]
    }
   ],
   "source": [
    "!pip install dtrees-analyzer -q"
   ]
  },
  {
   "cell_type": "markdown",
   "metadata": {},
   "source": [
    "## Imports"
   ]
  },
  {
   "cell_type": "code",
   "execution_count": 2,
   "metadata": {},
   "outputs": [],
   "source": [
    "from dtree import DecisionTree\n",
    "import numpy as np"
   ]
  },
  {
   "cell_type": "markdown",
   "metadata": {},
   "source": [
    "# Examples"
   ]
  },
  {
   "cell_type": "markdown",
   "metadata": {},
   "source": [
    "## First example"
   ]
  },
  {
   "cell_type": "code",
   "execution_count": 3,
   "metadata": {},
   "outputs": [],
   "source": [
    "# Define decision tree\n",
    "dt = DecisionTree()\n",
    "\n",
    "# Build decision tree\n",
    "dt.add_decision_node(\"D\", \"Decision\")\n",
    "dt.add_chance_node(\"B\", \"Buy TSLA stocks\")\n",
    "dt.add_terminal_node(\"NB\", \"Don't buy TSLA stocks\", 0)\n",
    "dt.add_edge(\"D\", \"B\")\n",
    "dt.add_edge(\"D\", \"NB\")\n",
    "\n",
    "dt.add_terminal_node(\"PI\", \"The price increases\", 1_000)\n",
    "dt.add_terminal_node(\"PD\", \"The price decreases\", -2_000)\n",
    "dt.add_edge(\"B\", \"PI\", 0.6)\n",
    "dt.add_edge(\"B\", \"PD\", 0.4)\n",
    "\n",
    "dt.save_mermaid_graph(\"./images/example.png\")"
   ]
  },
  {
   "cell_type": "markdown",
   "metadata": {},
   "source": [
    "## Land investment decision without utility function"
   ]
  },
  {
   "cell_type": "code",
   "execution_count": 4,
   "metadata": {},
   "outputs": [],
   "source": [
    "from dtree import DecisionTree\n",
    "\n",
    "# Create decision tree\n",
    "dt = DecisionTree()\n",
    "\n",
    "# Add nodes\n",
    "dt.add_decision_node(\"I\", \"Decision\")\n",
    "dt.add_terminal_node(\"S\", \"Sell land\", 22_000)\n",
    "dt.add_chance_node(\"D\", \"Drill land\")\n",
    "dt.add_edge(\"I\", \"S\")\n",
    "dt.add_edge(\"I\", \"D\")\n",
    "\n",
    "dt.add_decision_node(\"G\", \"Gas found\")\n",
    "dt.add_terminal_node(\"NG\", \"No gas found\", -40_000)\n",
    "dt.add_edge(\"D\", \"G\", 0.3)\n",
    "dt.add_edge(\"D\", \"NG\", 0.7)\n",
    "\n",
    "dt.add_terminal_node(\"GS\", \"Sell land to West Gas\", 200_000-40_000)\n",
    "dt.add_chance_node(\"GD\", \"Develop the site\")\n",
    "dt.add_edge(\"G\", \"GD\")\n",
    "dt.add_edge(\"G\", \"GS\")\n",
    "\n",
    "dt.add_terminal_node(\"NM\", \"Normal market conditions\", 150_000-40_000)\n",
    "dt.add_terminal_node(\"GM\", \"Good market conditions\", 300_000-40_000)\n",
    "dt.add_edge(\"GD\", \"NM\", 0.4)\n",
    "dt.add_edge(\"GD\", \"GM\", 0.6)\n",
    "\n",
    "# Create graph\n",
    "dt.save_mermaid_graph(\"./images/case_without_utility_func.png\")"
   ]
  },
  {
   "cell_type": "markdown",
   "metadata": {},
   "source": [
    "## Land investment decision with utility function"
   ]
  },
  {
   "cell_type": "code",
   "execution_count": 11,
   "metadata": {},
   "outputs": [],
   "source": [
    "import numpy as np\n",
    "from dtree import DecisionTree\n",
    "\n",
    "# Utility function\n",
    "def utility(x):\n",
    "    return np.cbrt(x).item()\n",
    "\n",
    "# Create decision tree\n",
    "dt = DecisionTree(utility_function=utility)\n",
    "\n",
    "# Add nodes\n",
    "dt.add_decision_node(\"I\", \"Decision\")\n",
    "dt.add_terminal_node(\"S\", \"Sell land\", 22_000)\n",
    "dt.add_chance_node(\"D\", \"Drill land\")\n",
    "dt.add_edge(\"I\", \"S\")\n",
    "dt.add_edge(\"I\", \"D\")\n",
    "\n",
    "dt.add_decision_node(\"G\", \"Gas found\")\n",
    "dt.add_terminal_node(\"NG\", \"No gas found\", -40_000)\n",
    "dt.add_edge(\"D\", \"G\", 0.3)\n",
    "dt.add_edge(\"D\", \"NG\", 0.7)\n",
    "\n",
    "dt.add_terminal_node(\"GS\", \"Sell land to West Gas\", 200_000-40_000)\n",
    "dt.add_chance_node(\"GD\", \"Develop the site\")\n",
    "dt.add_edge(\"G\", \"GD\")\n",
    "dt.add_edge(\"G\", \"GS\")\n",
    "\n",
    "dt.add_terminal_node(\"NM\", \"Normal market conditions\", 150_000-40_000)\n",
    "dt.add_terminal_node(\"GM\", \"Good market conditions\", 300_000-40_000)\n",
    "dt.add_edge(\"GD\", \"NM\", 0.4)\n",
    "dt.add_edge(\"GD\", \"GM\", 0.6)"
   ]
  },
  {
   "cell_type": "code",
   "execution_count": 12,
   "metadata": {},
   "outputs": [],
   "source": [
    "dt.save_mermaid_graph(\"./images/case_with_utility_func.png\")"
   ]
  },
  {
   "cell_type": "code",
   "execution_count": 13,
   "metadata": {},
   "outputs": [
    {
     "name": "stdout",
     "output_type": "stream",
     "text": [
      "Mermaid diagram saved to ./images/case_with_utility_func.md\n"
     ]
    }
   ],
   "source": [
    "dt.save_mermaid_diagram(\"./images/case_with_utility_func.md\")"
   ]
  },
  {
   "cell_type": "code",
   "execution_count": 14,
   "metadata": {},
   "outputs": [
    {
     "data": {
      "text/plain": [
       "{'I': {'expected_value': 32000.0, 'utility_value': 31.74802103936399},\n",
       " 'S': {'expected_value': 22000, 'utility_value': 28.02039330655387},\n",
       " 'D': {'expected_value': 32000.0, 'utility_value': 31.74802103936399},\n",
       " 'G': {'expected_value': 200000.0, 'utility_value': 58.480354764257314},\n",
       " 'NG': {'expected_value': -40000, 'utility_value': -34.19951893353394},\n",
       " 'GS': {'expected_value': 160000, 'utility_value': 54.28835233189813},\n",
       " 'GD': {'expected_value': 200000.0, 'utility_value': 58.480354764257314},\n",
       " 'NM': {'expected_value': 110000, 'utility_value': 47.91419857062784},\n",
       " 'GM': {'expected_value': 260000, 'utility_value': 63.82504298859907}}"
      ]
     },
     "execution_count": 14,
     "metadata": {},
     "output_type": "execute_result"
    }
   ],
   "source": [
    "dt.calculate_expected_values()"
   ]
  },
  {
   "cell_type": "code",
   "execution_count": 15,
   "metadata": {},
   "outputs": [
    {
     "data": {
      "text/plain": [
       "['I', 'D', 'G', 'GD', 'GM']"
      ]
     },
     "execution_count": 15,
     "metadata": {},
     "output_type": "execute_result"
    }
   ],
   "source": [
    "dt.get_optimal_path(\"I\")"
   ]
  },
  {
   "cell_type": "code",
   "execution_count": 16,
   "metadata": {},
   "outputs": [
    {
     "data": {
      "text/plain": [
       "[('NM', 0.4), ('GM', 0.6)]"
      ]
     },
     "execution_count": 16,
     "metadata": {},
     "output_type": "execute_result"
    }
   ],
   "source": [
    "dt.get_children(\"GD\")"
   ]
  }
 ],
 "metadata": {
  "kernelspec": {
   "display_name": ".venv",
   "language": "python",
   "name": "python3"
  },
  "language_info": {
   "codemirror_mode": {
    "name": "ipython",
    "version": 3
   },
   "file_extension": ".py",
   "mimetype": "text/x-python",
   "name": "python",
   "nbconvert_exporter": "python",
   "pygments_lexer": "ipython3",
   "version": "3.12.2"
  }
 },
 "nbformat": 4,
 "nbformat_minor": 2
}
